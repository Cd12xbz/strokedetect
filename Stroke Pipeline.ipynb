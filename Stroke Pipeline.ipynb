{
 "cells": [
  {
   "cell_type": "code",
   "execution_count": 1,
   "id": "a88447ba-36bd-4458-8899-2417c3367ace",
   "metadata": {},
   "outputs": [],
   "source": [
    "# Import All Lib\n",
    "from sklearn.pipeline import Pipeline\n",
    "from sklearn.ensemble import RandomForestClassifier, AdaBoostClassifier\n",
    "from sklearn.preprocessing import LabelEncoder, StandardScaler\n",
    "from sklearn.model_selection import train_test_split, GridSearchCV, cross_val_score\n",
    "from imblearn.combine import SMOTETomek\n",
    "\n",
    "import pandas as pd\n",
    "import numpy as np\n",
    "import seaborn as sns\n",
    "import matplotlib.pyplot as plt"
   ]
  },
  {
   "cell_type": "code",
   "execution_count": 2,
   "id": "ef0aad28-8d3c-4db3-97b2-918e0e384158",
   "metadata": {},
   "outputs": [
    {
     "data": {
      "text/html": [
       "<div>\n",
       "<style scoped>\n",
       "    .dataframe tbody tr th:only-of-type {\n",
       "        vertical-align: middle;\n",
       "    }\n",
       "\n",
       "    .dataframe tbody tr th {\n",
       "        vertical-align: top;\n",
       "    }\n",
       "\n",
       "    .dataframe thead th {\n",
       "        text-align: right;\n",
       "    }\n",
       "</style>\n",
       "<table border=\"1\" class=\"dataframe\">\n",
       "  <thead>\n",
       "    <tr style=\"text-align: right;\">\n",
       "      <th></th>\n",
       "      <th>id</th>\n",
       "      <th>gender</th>\n",
       "      <th>age</th>\n",
       "      <th>hypertension</th>\n",
       "      <th>heart_disease</th>\n",
       "      <th>ever_married</th>\n",
       "      <th>work_type</th>\n",
       "      <th>Residence_type</th>\n",
       "      <th>avg_glucose_level</th>\n",
       "      <th>bmi</th>\n",
       "      <th>smoking_status</th>\n",
       "      <th>stroke</th>\n",
       "    </tr>\n",
       "  </thead>\n",
       "  <tbody>\n",
       "    <tr>\n",
       "      <th>0</th>\n",
       "      <td>9046</td>\n",
       "      <td>Male</td>\n",
       "      <td>67.0</td>\n",
       "      <td>0</td>\n",
       "      <td>1</td>\n",
       "      <td>Yes</td>\n",
       "      <td>Private</td>\n",
       "      <td>Urban</td>\n",
       "      <td>228.69</td>\n",
       "      <td>36.6</td>\n",
       "      <td>formerly smoked</td>\n",
       "      <td>1</td>\n",
       "    </tr>\n",
       "    <tr>\n",
       "      <th>1</th>\n",
       "      <td>51676</td>\n",
       "      <td>Female</td>\n",
       "      <td>61.0</td>\n",
       "      <td>0</td>\n",
       "      <td>0</td>\n",
       "      <td>Yes</td>\n",
       "      <td>Self-employed</td>\n",
       "      <td>Rural</td>\n",
       "      <td>202.21</td>\n",
       "      <td>NaN</td>\n",
       "      <td>never smoked</td>\n",
       "      <td>1</td>\n",
       "    </tr>\n",
       "    <tr>\n",
       "      <th>2</th>\n",
       "      <td>31112</td>\n",
       "      <td>Male</td>\n",
       "      <td>80.0</td>\n",
       "      <td>0</td>\n",
       "      <td>1</td>\n",
       "      <td>Yes</td>\n",
       "      <td>Private</td>\n",
       "      <td>Rural</td>\n",
       "      <td>105.92</td>\n",
       "      <td>32.5</td>\n",
       "      <td>never smoked</td>\n",
       "      <td>1</td>\n",
       "    </tr>\n",
       "    <tr>\n",
       "      <th>3</th>\n",
       "      <td>60182</td>\n",
       "      <td>Female</td>\n",
       "      <td>49.0</td>\n",
       "      <td>0</td>\n",
       "      <td>0</td>\n",
       "      <td>Yes</td>\n",
       "      <td>Private</td>\n",
       "      <td>Urban</td>\n",
       "      <td>171.23</td>\n",
       "      <td>34.4</td>\n",
       "      <td>smokes</td>\n",
       "      <td>1</td>\n",
       "    </tr>\n",
       "    <tr>\n",
       "      <th>4</th>\n",
       "      <td>1665</td>\n",
       "      <td>Female</td>\n",
       "      <td>79.0</td>\n",
       "      <td>1</td>\n",
       "      <td>0</td>\n",
       "      <td>Yes</td>\n",
       "      <td>Self-employed</td>\n",
       "      <td>Rural</td>\n",
       "      <td>174.12</td>\n",
       "      <td>24.0</td>\n",
       "      <td>never smoked</td>\n",
       "      <td>1</td>\n",
       "    </tr>\n",
       "    <tr>\n",
       "      <th>...</th>\n",
       "      <td>...</td>\n",
       "      <td>...</td>\n",
       "      <td>...</td>\n",
       "      <td>...</td>\n",
       "      <td>...</td>\n",
       "      <td>...</td>\n",
       "      <td>...</td>\n",
       "      <td>...</td>\n",
       "      <td>...</td>\n",
       "      <td>...</td>\n",
       "      <td>...</td>\n",
       "      <td>...</td>\n",
       "    </tr>\n",
       "    <tr>\n",
       "      <th>5105</th>\n",
       "      <td>18234</td>\n",
       "      <td>Female</td>\n",
       "      <td>80.0</td>\n",
       "      <td>1</td>\n",
       "      <td>0</td>\n",
       "      <td>Yes</td>\n",
       "      <td>Private</td>\n",
       "      <td>Urban</td>\n",
       "      <td>83.75</td>\n",
       "      <td>NaN</td>\n",
       "      <td>never smoked</td>\n",
       "      <td>0</td>\n",
       "    </tr>\n",
       "    <tr>\n",
       "      <th>5106</th>\n",
       "      <td>44873</td>\n",
       "      <td>Female</td>\n",
       "      <td>81.0</td>\n",
       "      <td>0</td>\n",
       "      <td>0</td>\n",
       "      <td>Yes</td>\n",
       "      <td>Self-employed</td>\n",
       "      <td>Urban</td>\n",
       "      <td>125.20</td>\n",
       "      <td>40.0</td>\n",
       "      <td>never smoked</td>\n",
       "      <td>0</td>\n",
       "    </tr>\n",
       "    <tr>\n",
       "      <th>5107</th>\n",
       "      <td>19723</td>\n",
       "      <td>Female</td>\n",
       "      <td>35.0</td>\n",
       "      <td>0</td>\n",
       "      <td>0</td>\n",
       "      <td>Yes</td>\n",
       "      <td>Self-employed</td>\n",
       "      <td>Rural</td>\n",
       "      <td>82.99</td>\n",
       "      <td>30.6</td>\n",
       "      <td>never smoked</td>\n",
       "      <td>0</td>\n",
       "    </tr>\n",
       "    <tr>\n",
       "      <th>5108</th>\n",
       "      <td>37544</td>\n",
       "      <td>Male</td>\n",
       "      <td>51.0</td>\n",
       "      <td>0</td>\n",
       "      <td>0</td>\n",
       "      <td>Yes</td>\n",
       "      <td>Private</td>\n",
       "      <td>Rural</td>\n",
       "      <td>166.29</td>\n",
       "      <td>25.6</td>\n",
       "      <td>formerly smoked</td>\n",
       "      <td>0</td>\n",
       "    </tr>\n",
       "    <tr>\n",
       "      <th>5109</th>\n",
       "      <td>44679</td>\n",
       "      <td>Female</td>\n",
       "      <td>44.0</td>\n",
       "      <td>0</td>\n",
       "      <td>0</td>\n",
       "      <td>Yes</td>\n",
       "      <td>Govt_job</td>\n",
       "      <td>Urban</td>\n",
       "      <td>85.28</td>\n",
       "      <td>26.2</td>\n",
       "      <td>Unknown</td>\n",
       "      <td>0</td>\n",
       "    </tr>\n",
       "  </tbody>\n",
       "</table>\n",
       "<p>5110 rows × 12 columns</p>\n",
       "</div>"
      ],
      "text/plain": [
       "         id  gender   age  hypertension  heart_disease ever_married  \\\n",
       "0      9046    Male  67.0             0              1          Yes   \n",
       "1     51676  Female  61.0             0              0          Yes   \n",
       "2     31112    Male  80.0             0              1          Yes   \n",
       "3     60182  Female  49.0             0              0          Yes   \n",
       "4      1665  Female  79.0             1              0          Yes   \n",
       "...     ...     ...   ...           ...            ...          ...   \n",
       "5105  18234  Female  80.0             1              0          Yes   \n",
       "5106  44873  Female  81.0             0              0          Yes   \n",
       "5107  19723  Female  35.0             0              0          Yes   \n",
       "5108  37544    Male  51.0             0              0          Yes   \n",
       "5109  44679  Female  44.0             0              0          Yes   \n",
       "\n",
       "          work_type Residence_type  avg_glucose_level   bmi   smoking_status  \\\n",
       "0           Private          Urban             228.69  36.6  formerly smoked   \n",
       "1     Self-employed          Rural             202.21   NaN     never smoked   \n",
       "2           Private          Rural             105.92  32.5     never smoked   \n",
       "3           Private          Urban             171.23  34.4           smokes   \n",
       "4     Self-employed          Rural             174.12  24.0     never smoked   \n",
       "...             ...            ...                ...   ...              ...   \n",
       "5105        Private          Urban              83.75   NaN     never smoked   \n",
       "5106  Self-employed          Urban             125.20  40.0     never smoked   \n",
       "5107  Self-employed          Rural              82.99  30.6     never smoked   \n",
       "5108        Private          Rural             166.29  25.6  formerly smoked   \n",
       "5109       Govt_job          Urban              85.28  26.2          Unknown   \n",
       "\n",
       "      stroke  \n",
       "0          1  \n",
       "1          1  \n",
       "2          1  \n",
       "3          1  \n",
       "4          1  \n",
       "...      ...  \n",
       "5105       0  \n",
       "5106       0  \n",
       "5107       0  \n",
       "5108       0  \n",
       "5109       0  \n",
       "\n",
       "[5110 rows x 12 columns]"
      ]
     },
     "execution_count": 2,
     "metadata": {},
     "output_type": "execute_result"
    }
   ],
   "source": [
    "# Load Dataset\n",
    "\n",
    "file = ('dataset/stroke_dataset.csv')\n",
    "data = pd.read_csv(file)\n",
    "data"
   ]
  },
  {
   "cell_type": "markdown",
   "id": "15b053d2-6947-48ce-a05c-04bf2c5d9732",
   "metadata": {},
   "source": [
    "Mengenali Dataset"
   ]
  },
  {
   "cell_type": "code",
   "execution_count": 3,
   "id": "88a48f9b-4e52-4df6-9089-b840b95708d0",
   "metadata": {},
   "outputs": [
    {
     "name": "stdout",
     "output_type": "stream",
     "text": [
      "<class 'pandas.core.frame.DataFrame'>\n",
      "RangeIndex: 5110 entries, 0 to 5109\n",
      "Data columns (total 12 columns):\n",
      " #   Column             Non-Null Count  Dtype  \n",
      "---  ------             --------------  -----  \n",
      " 0   id                 5110 non-null   int64  \n",
      " 1   gender             5110 non-null   object \n",
      " 2   age                5110 non-null   float64\n",
      " 3   hypertension       5110 non-null   int64  \n",
      " 4   heart_disease      5110 non-null   int64  \n",
      " 5   ever_married       5110 non-null   object \n",
      " 6   work_type          5110 non-null   object \n",
      " 7   Residence_type     5110 non-null   object \n",
      " 8   avg_glucose_level  5110 non-null   float64\n",
      " 9   bmi                4909 non-null   float64\n",
      " 10  smoking_status     5110 non-null   object \n",
      " 11  stroke             5110 non-null   int64  \n",
      "dtypes: float64(3), int64(4), object(5)\n",
      "memory usage: 479.2+ KB\n"
     ]
    }
   ],
   "source": [
    "# Cek info dataset\n",
    "data.info()"
   ]
  },
  {
   "cell_type": "code",
   "execution_count": 4,
   "id": "724c1759-90d5-4397-b8f0-9a557ecb9950",
   "metadata": {},
   "outputs": [
    {
     "data": {
      "text/html": [
       "<div>\n",
       "<style scoped>\n",
       "    .dataframe tbody tr th:only-of-type {\n",
       "        vertical-align: middle;\n",
       "    }\n",
       "\n",
       "    .dataframe tbody tr th {\n",
       "        vertical-align: top;\n",
       "    }\n",
       "\n",
       "    .dataframe thead th {\n",
       "        text-align: right;\n",
       "    }\n",
       "</style>\n",
       "<table border=\"1\" class=\"dataframe\">\n",
       "  <thead>\n",
       "    <tr style=\"text-align: right;\">\n",
       "      <th></th>\n",
       "      <th>id</th>\n",
       "      <th>age</th>\n",
       "      <th>hypertension</th>\n",
       "      <th>heart_disease</th>\n",
       "      <th>avg_glucose_level</th>\n",
       "      <th>bmi</th>\n",
       "      <th>stroke</th>\n",
       "    </tr>\n",
       "  </thead>\n",
       "  <tbody>\n",
       "    <tr>\n",
       "      <th>count</th>\n",
       "      <td>5110.000000</td>\n",
       "      <td>5110.000000</td>\n",
       "      <td>5110.000000</td>\n",
       "      <td>5110.000000</td>\n",
       "      <td>5110.000000</td>\n",
       "      <td>4909.000000</td>\n",
       "      <td>5110.000000</td>\n",
       "    </tr>\n",
       "    <tr>\n",
       "      <th>mean</th>\n",
       "      <td>36517.829354</td>\n",
       "      <td>43.226614</td>\n",
       "      <td>0.097456</td>\n",
       "      <td>0.054012</td>\n",
       "      <td>106.147677</td>\n",
       "      <td>28.893237</td>\n",
       "      <td>0.048728</td>\n",
       "    </tr>\n",
       "    <tr>\n",
       "      <th>std</th>\n",
       "      <td>21161.721625</td>\n",
       "      <td>22.612647</td>\n",
       "      <td>0.296607</td>\n",
       "      <td>0.226063</td>\n",
       "      <td>45.283560</td>\n",
       "      <td>7.854067</td>\n",
       "      <td>0.215320</td>\n",
       "    </tr>\n",
       "    <tr>\n",
       "      <th>min</th>\n",
       "      <td>67.000000</td>\n",
       "      <td>0.080000</td>\n",
       "      <td>0.000000</td>\n",
       "      <td>0.000000</td>\n",
       "      <td>55.120000</td>\n",
       "      <td>10.300000</td>\n",
       "      <td>0.000000</td>\n",
       "    </tr>\n",
       "    <tr>\n",
       "      <th>25%</th>\n",
       "      <td>17741.250000</td>\n",
       "      <td>25.000000</td>\n",
       "      <td>0.000000</td>\n",
       "      <td>0.000000</td>\n",
       "      <td>77.245000</td>\n",
       "      <td>23.500000</td>\n",
       "      <td>0.000000</td>\n",
       "    </tr>\n",
       "    <tr>\n",
       "      <th>50%</th>\n",
       "      <td>36932.000000</td>\n",
       "      <td>45.000000</td>\n",
       "      <td>0.000000</td>\n",
       "      <td>0.000000</td>\n",
       "      <td>91.885000</td>\n",
       "      <td>28.100000</td>\n",
       "      <td>0.000000</td>\n",
       "    </tr>\n",
       "    <tr>\n",
       "      <th>75%</th>\n",
       "      <td>54682.000000</td>\n",
       "      <td>61.000000</td>\n",
       "      <td>0.000000</td>\n",
       "      <td>0.000000</td>\n",
       "      <td>114.090000</td>\n",
       "      <td>33.100000</td>\n",
       "      <td>0.000000</td>\n",
       "    </tr>\n",
       "    <tr>\n",
       "      <th>max</th>\n",
       "      <td>72940.000000</td>\n",
       "      <td>82.000000</td>\n",
       "      <td>1.000000</td>\n",
       "      <td>1.000000</td>\n",
       "      <td>271.740000</td>\n",
       "      <td>97.600000</td>\n",
       "      <td>1.000000</td>\n",
       "    </tr>\n",
       "  </tbody>\n",
       "</table>\n",
       "</div>"
      ],
      "text/plain": [
       "                 id          age  hypertension  heart_disease  \\\n",
       "count   5110.000000  5110.000000   5110.000000    5110.000000   \n",
       "mean   36517.829354    43.226614      0.097456       0.054012   \n",
       "std    21161.721625    22.612647      0.296607       0.226063   \n",
       "min       67.000000     0.080000      0.000000       0.000000   \n",
       "25%    17741.250000    25.000000      0.000000       0.000000   \n",
       "50%    36932.000000    45.000000      0.000000       0.000000   \n",
       "75%    54682.000000    61.000000      0.000000       0.000000   \n",
       "max    72940.000000    82.000000      1.000000       1.000000   \n",
       "\n",
       "       avg_glucose_level          bmi       stroke  \n",
       "count        5110.000000  4909.000000  5110.000000  \n",
       "mean          106.147677    28.893237     0.048728  \n",
       "std            45.283560     7.854067     0.215320  \n",
       "min            55.120000    10.300000     0.000000  \n",
       "25%            77.245000    23.500000     0.000000  \n",
       "50%            91.885000    28.100000     0.000000  \n",
       "75%           114.090000    33.100000     0.000000  \n",
       "max           271.740000    97.600000     1.000000  "
      ]
     },
     "execution_count": 4,
     "metadata": {},
     "output_type": "execute_result"
    }
   ],
   "source": [
    "# cek deskripsi data\n",
    "data.describe()"
   ]
  },
  {
   "cell_type": "code",
   "execution_count": 5,
   "id": "1ab31fc6-3f8a-4c6b-89dc-fd947a889bb0",
   "metadata": {},
   "outputs": [
    {
     "data": {
      "text/plain": [
       "id                     0\n",
       "gender                 0\n",
       "age                    0\n",
       "hypertension           0\n",
       "heart_disease          0\n",
       "ever_married           0\n",
       "work_type              0\n",
       "Residence_type         0\n",
       "avg_glucose_level      0\n",
       "bmi                  201\n",
       "smoking_status         0\n",
       "stroke                 0\n",
       "dtype: int64"
      ]
     },
     "execution_count": 5,
     "metadata": {},
     "output_type": "execute_result"
    }
   ],
   "source": [
    "# Cek nilai hilang pada dataset\n",
    "data.isnull().sum()"
   ]
  },
  {
   "cell_type": "code",
   "execution_count": 6,
   "id": "1c9cd383-ebe9-4d66-9fc7-4ba62653219b",
   "metadata": {},
   "outputs": [
    {
     "name": "stdout",
     "output_type": "stream",
     "text": [
      "id                   0\n",
      "gender               0\n",
      "age                  0\n",
      "hypertension         0\n",
      "heart_disease        0\n",
      "ever_married         0\n",
      "work_type            0\n",
      "Residence_type       0\n",
      "avg_glucose_level    0\n",
      "bmi                  0\n",
      "smoking_status       0\n",
      "stroke               0\n",
      "dtype: int64\n"
     ]
    }
   ],
   "source": [
    "# Terdapat 201 nilai yang hilang pada kolom BMI, kita akan lakukan pengisisan dengan nilai rata rata\n",
    "# Mengisi Data yang tidak Ada Nilai nya\n",
    "data['bmi'] = data['bmi'].fillna(data['bmi'].mean())\n",
    "print(data.isna().sum())"
   ]
  },
  {
   "cell_type": "code",
   "execution_count": 7,
   "id": "9ca94b24-0345-43c3-9bd2-c97390bdf9e3",
   "metadata": {},
   "outputs": [
    {
     "data": {
      "text/plain": [
       "0"
      ]
     },
     "execution_count": 7,
     "metadata": {},
     "output_type": "execute_result"
    }
   ],
   "source": [
    "# cek duplikasi data\n",
    "data.duplicated().sum()"
   ]
  },
  {
   "cell_type": "code",
   "execution_count": 8,
   "id": "d17e0ac3-a749-42c0-8e94-49842fd0902a",
   "metadata": {},
   "outputs": [
    {
     "name": "stdout",
     "output_type": "stream",
     "text": [
      "['Male' 'Female' 'Other']\n",
      "['Private' 'Self-employed' 'Govt_job' 'children' 'Never_worked']\n",
      "['Urban' 'Rural']\n",
      "['formerly smoked' 'never smoked' 'smokes' 'Unknown']\n"
     ]
    }
   ],
   "source": [
    "# cek isian dari dataset\n",
    "\n",
    "# gender\n",
    "print(data['gender'].unique())\n",
    "\n",
    "# worktype\n",
    "print(data['work_type'].unique())\n",
    "\n",
    "# Residence Type\n",
    "print(data['Residence_type'].unique())\n",
    "\n",
    "# Smoking Status\n",
    "print(data['smoking_status'].unique())"
   ]
  },
  {
   "cell_type": "code",
   "execution_count": 9,
   "id": "72eaa089-c280-4ff6-831d-9bf300f6e3d9",
   "metadata": {},
   "outputs": [
    {
     "data": {
      "text/plain": [
       "array(['Male', 'Female'], dtype=object)"
      ]
     },
     "execution_count": 9,
     "metadata": {},
     "output_type": "execute_result"
    }
   ],
   "source": [
    "# Menggahapus Nilai \"Other\" pada kolom gender\n",
    "data = data[data['gender'] != 'Other']\n",
    "data['gender'].unique()"
   ]
  },
  {
   "cell_type": "code",
   "execution_count": 10,
   "id": "67cdaa76-402b-49fd-81fd-7dba55b8caee",
   "metadata": {},
   "outputs": [
    {
     "data": {
      "image/png": "[encoded data removed]",
      "text/plain": [
       "<Figure size 700x500 with 1 Axes>"
      ]
     },
     "metadata": {},
     "output_type": "display_data"
    },
    {
     "name": "stdout",
     "output_type": "stream",
     "text": [
      "stroke\n",
      "0    4860\n",
      "1     249\n",
      "Name: count, dtype: int64\n"
     ]
    }
   ],
   "source": [
    "# cek keseimbangan data\n",
    "fig, axes = plt.subplots(1,1,figsize=(7,5))\n",
    "\n",
    "sns.histplot(data = data, x='stroke', color = 'red')\n",
    "plt.show()\n",
    "print (data['stroke'].value_counts())"
   ]
  },
  {
   "cell_type": "markdown",
   "id": "2d05c883-d443-4f2a-8701-6ed2b709b82e",
   "metadata": {},
   "source": [
    "Terlihat Data belum seimbang"
   ]
  },
  {
   "cell_type": "code",
   "execution_count": 11,
   "id": "d8c70e06-5902-4c4d-9b18-a34aad0a3c16",
   "metadata": {},
   "outputs": [
    {
     "name": "stderr",
     "output_type": "stream",
     "text": [
      "C:\\Users\\jangh\\AppData\\Local\\Temp\\ipykernel_15728\\583359724.py:4: SettingWithCopyWarning: \n",
      "A value is trying to be set on a copy of a slice from a DataFrame\n",
      "\n",
      "See the caveats in the documentation: https://pandas.pydata.org/pandas-docs/stable/user_guide/indexing.html#returning-a-view-versus-a-copy\n",
      "  data.drop('id', axis=1, inplace=True)\n",
      "C:\\Users\\jangh\\AppData\\Local\\Temp\\ipykernel_15728\\583359724.py:12: SettingWithCopyWarning: \n",
      "A value is trying to be set on a copy of a slice from a DataFrame.\n",
      "Try using .loc[row_indexer,col_indexer] = value instead\n",
      "\n",
      "See the caveats in the documentation: https://pandas.pydata.org/pandas-docs/stable/user_guide/indexing.html#returning-a-view-versus-a-copy\n",
      "  data[i] = le.transform(data[i])\n",
      "C:\\Users\\jangh\\AppData\\Local\\Temp\\ipykernel_15728\\583359724.py:12: SettingWithCopyWarning: \n",
      "A value is trying to be set on a copy of a slice from a DataFrame.\n",
      "Try using .loc[row_indexer,col_indexer] = value instead\n",
      "\n",
      "See the caveats in the documentation: https://pandas.pydata.org/pandas-docs/stable/user_guide/indexing.html#returning-a-view-versus-a-copy\n",
      "  data[i] = le.transform(data[i])\n",
      "C:\\Users\\jangh\\AppData\\Local\\Temp\\ipykernel_15728\\583359724.py:12: SettingWithCopyWarning: \n",
      "A value is trying to be set on a copy of a slice from a DataFrame.\n",
      "Try using .loc[row_indexer,col_indexer] = value instead\n",
      "\n",
      "See the caveats in the documentation: https://pandas.pydata.org/pandas-docs/stable/user_guide/indexing.html#returning-a-view-versus-a-copy\n",
      "  data[i] = le.transform(data[i])\n",
      "C:\\Users\\jangh\\AppData\\Local\\Temp\\ipykernel_15728\\583359724.py:12: SettingWithCopyWarning: \n",
      "A value is trying to be set on a copy of a slice from a DataFrame.\n",
      "Try using .loc[row_indexer,col_indexer] = value instead\n",
      "\n",
      "See the caveats in the documentation: https://pandas.pydata.org/pandas-docs/stable/user_guide/indexing.html#returning-a-view-versus-a-copy\n",
      "  data[i] = le.transform(data[i])\n",
      "C:\\Users\\jangh\\AppData\\Local\\Temp\\ipykernel_15728\\583359724.py:12: SettingWithCopyWarning: \n",
      "A value is trying to be set on a copy of a slice from a DataFrame.\n",
      "Try using .loc[row_indexer,col_indexer] = value instead\n",
      "\n",
      "See the caveats in the documentation: https://pandas.pydata.org/pandas-docs/stable/user_guide/indexing.html#returning-a-view-versus-a-copy\n",
      "  data[i] = le.transform(data[i])\n"
     ]
    }
   ],
   "source": [
    "# Sebelum menyeimbangan Data ada beberapa tahapan lagi\n",
    "\n",
    "#1. hapus kolom tidak berguna seperti ID\n",
    "data.drop('id', axis=1, inplace=True)\n",
    "\n",
    "#2. Transformasi Data menggunakan Label encoder\n",
    "d_list = data.select_dtypes(include=['object']).columns.tolist()\n",
    "\n",
    "le = LabelEncoder()\n",
    "for i in d_list:\n",
    "    le.fit(data[i])\n",
    "    data[i] = le.transform(data[i])"
   ]
  },
  {
   "cell_type": "code",
   "execution_count": 12,
   "id": "1fff5ebd-c6a0-40d0-b03d-172399a68e4d",
   "metadata": {},
   "outputs": [
    {
     "name": "stdout",
     "output_type": "stream",
     "text": [
      "<class 'pandas.core.frame.DataFrame'>\n",
      "Index: 5109 entries, 0 to 5109\n",
      "Data columns (total 11 columns):\n",
      " #   Column             Non-Null Count  Dtype  \n",
      "---  ------             --------------  -----  \n",
      " 0   gender             5109 non-null   int32  \n",
      " 1   age                5109 non-null   float64\n",
      " 2   hypertension       5109 non-null   int64  \n",
      " 3   heart_disease      5109 non-null   int64  \n",
      " 4   ever_married       5109 non-null   int32  \n",
      " 5   work_type          5109 non-null   int32  \n",
      " 6   Residence_type     5109 non-null   int32  \n",
      " 7   avg_glucose_level  5109 non-null   float64\n",
      " 8   bmi                5109 non-null   float64\n",
      " 9   smoking_status     5109 non-null   int32  \n",
      " 10  stroke             5109 non-null   int64  \n",
      "dtypes: float64(3), int32(5), int64(3)\n",
      "memory usage: 379.2 KB\n"
     ]
    }
   ],
   "source": [
    "# cek info dataset setelah transformasi\n",
    "data.info()"
   ]
  },
  {
   "cell_type": "code",
   "execution_count": 13,
   "id": "078b1706-7a61-44c9-87ba-435eb9da05d7",
   "metadata": {},
   "outputs": [
    {
     "name": "stdout",
     "output_type": "stream",
     "text": [
      "<class 'pandas.core.frame.DataFrame'>\n",
      "Index: 5109 entries, 0 to 5109\n",
      "Data columns (total 11 columns):\n",
      " #   Column             Non-Null Count  Dtype  \n",
      "---  ------             --------------  -----  \n",
      " 0   gender             5109 non-null   int32  \n",
      " 1   age                5109 non-null   int32  \n",
      " 2   hypertension       5109 non-null   int64  \n",
      " 3   heart_disease      5109 non-null   int64  \n",
      " 4   ever_married       5109 non-null   int32  \n",
      " 5   work_type          5109 non-null   int32  \n",
      " 6   Residence_type     5109 non-null   int32  \n",
      " 7   avg_glucose_level  5109 non-null   float64\n",
      " 8   bmi                5109 non-null   float64\n",
      " 9   smoking_status     5109 non-null   int32  \n",
      " 10  stroke             5109 non-null   int64  \n",
      "dtypes: float64(2), int32(6), int64(3)\n",
      "memory usage: 359.2 KB\n"
     ]
    },
    {
     "name": "stderr",
     "output_type": "stream",
     "text": [
      "C:\\Users\\jangh\\AppData\\Local\\Temp\\ipykernel_15728\\4286778755.py:2: SettingWithCopyWarning: \n",
      "A value is trying to be set on a copy of a slice from a DataFrame.\n",
      "Try using .loc[row_indexer,col_indexer] = value instead\n",
      "\n",
      "See the caveats in the documentation: https://pandas.pydata.org/pandas-docs/stable/user_guide/indexing.html#returning-a-view-versus-a-copy\n",
      "  data['age'] = data['age'].astype(int)\n"
     ]
    }
   ],
   "source": [
    "# Mengubah type data age menjadi INT\n",
    "data['age'] = data['age'].astype(int)\n",
    "data.info()"
   ]
  },
  {
   "cell_type": "code",
   "execution_count": 14,
   "id": "903bffda-f036-4f5b-8278-762132b50d75",
   "metadata": {},
   "outputs": [],
   "source": [
    "# Menentukan Label pada dataset\n",
    "\n",
    "X = data.drop('stroke', axis=1)\n",
    "y = data['stroke']"
   ]
  },
  {
   "cell_type": "code",
   "execution_count": 18,
   "id": "06a400f3-be5e-451a-a7d2-52eba2e65c6b",
   "metadata": {},
   "outputs": [
    {
     "name": "stdout",
     "output_type": "stream",
     "text": [
      "Jumlah sampel sebelum hybrid =  5109\n",
      "Jumlah sampel sesudah hybrid =  9656\n"
     ]
    }
   ],
   "source": [
    "# Penyeimbangan Data\n",
    "balanced = SMOTETomek(random_state=42)\n",
    "\n",
    "X_resampled, y_resampled = balanced.fit_resample(X, y)\n",
    "\n",
    "# Cek Jumlah Variabel X dan y Sebelum dan sesudah \n",
    "print('Jumlah sampel sebelum hybrid = ', len(X))\n",
    "print('Jumlah sampel sesudah hybrid = ', len(X_resampled))"
   ]
  },
  {
   "cell_type": "code",
   "execution_count": 20,
   "id": "a08121e2-080a-4bbe-ba5b-d88a6b242f4a",
   "metadata": {},
   "outputs": [],
   "source": [
    "# Buat Menjadi Data Frame\n",
    "resampled_data = pd.concat([pd.DataFrame(X_resampled, columns=X.columns), pd.DataFrame(y_resampled, columns=['stroke'])], axis=1)\n",
    "resampled_data.to_csv('stroke_dataset_balanced.csv', index=False)"
   ]
  },
  {
   "cell_type": "code",
   "execution_count": 21,
   "id": "f8289ff9-242b-4e6f-b12e-20a178c88bc6",
   "metadata": {},
   "outputs": [
    {
     "data": {
      "text/plain": [
       "stroke\n",
       "1    4828\n",
       "0    4828\n",
       "Name: count, dtype: int64"
      ]
     },
     "execution_count": 21,
     "metadata": {},
     "output_type": "execute_result"
    }
   ],
   "source": [
    "# melihat apakah dataset sudah seimbang\n",
    "\n",
    "data = pd.read_csv('stroke_dataset_balanced.csv')\n",
    "\n",
    "data['stroke'].value_counts()"
   ]
  },
  {
   "cell_type": "code",
   "execution_count": 22,
   "id": "613d8e13-81c3-41ff-b7a5-fca8a51ecca8",
   "metadata": {},
   "outputs": [
    {
     "data": {
      "image/png": "[encoded data removed]",
      "text/plain": [
       "<Figure size 700x500 with 1 Axes>"
      ]
     },
     "metadata": {},
     "output_type": "display_data"
    },
    {
     "name": "stdout",
     "output_type": "stream",
     "text": [
      "stroke\n",
      "1    4828\n",
      "0    4828\n",
      "Name: count, dtype: int64\n"
     ]
    }
   ],
   "source": [
    "# Visualisasi Dataset yang sudah diseimbangakn\n",
    "# cek keseimbangan data\n",
    "fig, axes = plt.subplots(1,1,figsize=(7,5))\n",
    "\n",
    "sns.histplot(data = data, x='stroke', color = 'red')\n",
    "plt.show()\n",
    "print (data['stroke'].value_counts())"
   ]
  },
  {
   "cell_type": "code",
   "execution_count": 24,
   "id": "fcb505b0-e1ec-4dca-a073-08c9c16825b3",
   "metadata": {},
   "outputs": [],
   "source": [
    "# Pemilihan Variabel Bebas dan independent dari data yang sudah diseimbangakan\n",
    "X = data.drop('stroke', axis=1)\n",
    "y = data['stroke']"
   ]
  },
  {
   "cell_type": "code",
   "execution_count": 25,
   "id": "ca76072f-b192-4153-ba8c-372969f1c9e0",
   "metadata": {},
   "outputs": [],
   "source": [
    "# Spliting data\n",
    "X_train, X_test, y_train, y_test = train_test_split(X, y, test_size=0.2,\n",
    "                                                    random_state=42, shuffle=True)"
   ]
  },
  {
   "cell_type": "code",
   "execution_count": 30,
   "id": "db54239b-b4b3-4537-9671-6cd3fcffe0e2",
   "metadata": {},
   "outputs": [
    {
     "name": "stdout",
     "output_type": "stream",
     "text": [
      "0.9497929606625258\n"
     ]
    }
   ],
   "source": [
    "# Implementasi Program\n",
    "\n",
    "model = AdaBoostClassifier(\n",
    "        estimator=RandomForestClassifier(n_estimators=100, random_state=42),\n",
    "        n_estimators=100, algorithm=\"SAMME\", random_state=42)\n",
    "model.fit(X_train, y_train)\n",
    "pred = model.predict(X_test)\n",
    "print (model.score(X_test, y_test))"
   ]
  },
  {
   "cell_type": "code",
   "execution_count": 31,
   "id": "8b44c2ae-0a49-4681-a95f-38213763d62f",
   "metadata": {},
   "outputs": [
    {
     "data": {
      "text/plain": [
       "Text(0.5, 1.0, 'Confus Matriks Random Forest')"
      ]
     },
     "execution_count": 31,
     "metadata": {},
     "output_type": "execute_result"
    },
    {
     "data": {
      "image/png": "[encoded data removed]",
      "text/plain": [
       "<Figure size 640x480 with 2 Axes>"
      ]
     },
     "metadata": {},
     "output_type": "display_data"
    }
   ],
   "source": [
    "from sklearn.metrics import confusion_matrix, classification_report\n",
    "cn = confusion_matrix(y_test, pred)\n",
    "sns.heatmap(cn, annot=True)\n",
    "plt.title(\"Confus Matriks Random Forest\")"
   ]
  },
  {
   "cell_type": "code",
   "execution_count": 33,
   "id": "7be36d30-b380-4cfc-a759-bd9673f65836",
   "metadata": {},
   "outputs": [
    {
     "name": "stdout",
     "output_type": "stream",
     "text": [
      "              precision    recall  f1-score   support\n",
      "\n",
      "           0       0.97      0.93      0.95       991\n",
      "           1       0.93      0.97      0.95       941\n",
      "\n",
      "    accuracy                           0.95      1932\n",
      "   macro avg       0.95      0.95      0.95      1932\n",
      "weighted avg       0.95      0.95      0.95      1932\n",
      "\n"
     ]
    }
   ],
   "source": [
    "print(classification_report(y_test, pred))"
   ]
  },
  {
   "cell_type": "code",
   "execution_count": 35,
   "id": "b3ec4928-eb02-4b30-9c68-e1d94bf604a0",
   "metadata": {},
   "outputs": [
    {
     "name": "stdout",
     "output_type": "stream",
     "text": [
      "Fitting 5 folds for each of 768 candidates, totalling 3840 fits\n"
     ]
    },
    {
     "name": "stderr",
     "output_type": "stream",
     "text": [
      "C:\\ProgramData\\anaconda3\\Lib\\site-packages\\sklearn\\model_selection\\_validation.py:540: FitFailedWarning: \n",
      "960 fits failed out of a total of 3840.\n",
      "The score on these train-test partitions for these parameters will be set to nan.\n",
      "If these failures are not expected, you can try to debug them by setting error_score='raise'.\n",
      "\n",
      "Below are more details about the failures:\n",
      "--------------------------------------------------------------------------------\n",
      "960 fits failed with the following error:\n",
      "Traceback (most recent call last):\n",
      "  File \"C:\\ProgramData\\anaconda3\\Lib\\site-packages\\sklearn\\model_selection\\_validation.py\", line 888, in _fit_and_score\n",
      "    estimator.fit(X_train, y_train, **fit_params)\n",
      "  File \"C:\\ProgramData\\anaconda3\\Lib\\site-packages\\sklearn\\base.py\", line 1466, in wrapper\n",
      "    estimator._validate_params()\n",
      "  File \"C:\\ProgramData\\anaconda3\\Lib\\site-packages\\sklearn\\base.py\", line 666, in _validate_params\n",
      "    validate_parameter_constraints(\n",
      "  File \"C:\\ProgramData\\anaconda3\\Lib\\site-packages\\sklearn\\utils\\_param_validation.py\", line 95, in validate_parameter_constraints\n",
      "    raise InvalidParameterError(\n",
      "sklearn.utils._param_validation.InvalidParameterError: The 'min_samples_split' parameter of RandomForestClassifier must be an int in the range [2, inf) or a float in the range (0.0, 1.0]. Got 1 instead.\n",
      "\n",
      "  warnings.warn(some_fits_failed_message, FitFailedWarning)\n",
      "C:\\ProgramData\\anaconda3\\Lib\\site-packages\\sklearn\\model_selection\\_search.py:1102: UserWarning: One or more of the test scores are non-finite: [       nan        nan        nan        nan        nan        nan\n",
      "        nan        nan 0.78068364 0.77136233 0.778871   0.7762815\n",
      " 0.77912999 0.77938889 0.77912957 0.7793888  0.78068364 0.77136233\n",
      " 0.778871   0.7762815  0.77912999 0.77938889 0.77912957 0.7793888\n",
      " 0.78068364 0.77136233 0.778871   0.7762815  0.77912999 0.77938889\n",
      " 0.77912957 0.7793888         nan        nan        nan        nan\n",
      "        nan        nan        nan        nan 0.78068364 0.77136233\n",
      " 0.778871   0.7762815  0.77912999 0.77938889 0.77912957 0.7793888\n",
      " 0.78068364 0.77136233 0.778871   0.7762815  0.77912999 0.77938889\n",
      " 0.77912957 0.7793888  0.78068364 0.77136233 0.778871   0.7762815\n",
      " 0.77912999 0.77938889 0.77912957 0.7793888         nan        nan\n",
      "        nan        nan        nan        nan        nan        nan\n",
      " 0.78068364 0.77136233 0.778871   0.7762815  0.77912999 0.77938889\n",
      " 0.77912957 0.7793888  0.78068364 0.77136233 0.778871   0.7762815\n",
      " 0.77912999 0.77938889 0.77912957 0.7793888  0.78068364 0.77136233\n",
      " 0.778871   0.7762815  0.77912999 0.77938889 0.77912957 0.7793888\n",
      "        nan        nan        nan        nan        nan        nan\n",
      "        nan        nan 0.78068364 0.77136233 0.778871   0.7762815\n",
      " 0.77912999 0.77938889 0.77912957 0.7793888  0.78068364 0.77136233\n",
      " 0.778871   0.7762815  0.77912999 0.77938889 0.77912957 0.7793888\n",
      " 0.78068364 0.77136233 0.778871   0.7762815  0.77912999 0.77938889\n",
      " 0.77912957 0.7793888         nan        nan        nan        nan\n",
      "        nan        nan        nan        nan 0.78353262 0.78819324\n",
      " 0.78884023 0.7889691  0.79052283 0.79116941 0.79466489 0.79129894\n",
      " 0.78353262 0.78819324 0.78884023 0.7889691  0.79052283 0.79116941\n",
      " 0.79466489 0.79129894 0.78353262 0.78819324 0.78884023 0.7889691\n",
      " 0.79052283 0.79116941 0.79466489 0.79129894        nan        nan\n",
      "        nan        nan        nan        nan        nan        nan\n",
      " 0.78353262 0.78819324 0.78884023 0.7889691  0.79052283 0.79116941\n",
      " 0.79466489 0.79129894 0.78353262 0.78819324 0.78884023 0.7889691\n",
      " 0.79052283 0.79116941 0.79466489 0.79129894 0.78353262 0.78819324\n",
      " 0.78884023 0.7889691  0.79052283 0.79116941 0.79466489 0.79129894\n",
      "        nan        nan        nan        nan        nan        nan\n",
      "        nan        nan 0.78353262 0.78819324 0.78884023 0.7889691\n",
      " 0.79052283 0.79116941 0.79466489 0.79129894 0.78353262 0.78819324\n",
      " 0.78884023 0.7889691  0.79052283 0.79116941 0.79466489 0.79129894\n",
      " 0.78353262 0.78819324 0.78884023 0.7889691  0.79052283 0.79116941\n",
      " 0.79466489 0.79129894        nan        nan        nan        nan\n",
      "        nan        nan        nan        nan 0.78353262 0.78819324\n",
      " 0.78884023 0.7889691  0.79052283 0.79116941 0.79466489 0.79129894\n",
      " 0.78353262 0.78819324 0.78884023 0.7889691  0.79052283 0.79116941\n",
      " 0.79466489 0.79129894 0.78353262 0.78819324 0.78884023 0.7889691\n",
      " 0.79052283 0.79116941 0.79466489 0.79129894        nan        nan\n",
      "        nan        nan        nan        nan        nan        nan\n",
      " 0.78897002 0.78689832 0.7910413  0.7972554  0.80372831 0.80217499\n",
      " 0.80644717 0.80890647 0.78884057 0.78702777 0.79091185 0.79790264\n",
      " 0.80398721 0.80217499 0.80657662 0.80890647 0.78884057 0.78702777\n",
      " 0.79091185 0.79790264 0.80398721 0.80217499 0.80657662 0.80890647\n",
      "        nan        nan        nan        nan        nan        nan\n",
      "        nan        nan 0.78884057 0.78702777 0.7910413  0.79803209\n",
      " 0.80411666 0.80217499 0.80657662 0.80890647 0.78884057 0.78702777\n",
      " 0.7910413  0.79803209 0.80411666 0.80217499 0.80657662 0.80890647\n",
      " 0.78884057 0.78702777 0.7910413  0.79803209 0.80411666 0.80217499\n",
      " 0.80657662 0.80890647        nan        nan        nan        nan\n",
      "        nan        nan        nan        nan 0.78884057 0.78715722\n",
      " 0.79091185 0.79803209 0.80411666 0.80217499 0.80657662 0.80890647\n",
      " 0.78884057 0.78715722 0.79091185 0.79803209 0.80411666 0.80217499\n",
      " 0.80657662 0.80890647 0.78884057 0.78715722 0.79091185 0.79803209\n",
      " 0.80411666 0.80217499 0.80657662 0.80890647        nan        nan\n",
      "        nan        nan        nan        nan        nan        nan\n",
      " 0.78884057 0.78689832 0.7910413  0.79803209 0.80411666 0.80217499\n",
      " 0.80657662 0.809036   0.78884057 0.78689832 0.7910413  0.79803209\n",
      " 0.80411666 0.80217499 0.80657662 0.809036   0.78884057 0.78689832\n",
      " 0.7910413  0.79803209 0.80411666 0.80217499 0.80657662 0.809036\n",
      "        nan        nan        nan        nan        nan        nan\n",
      "        nan        nan 0.77692833 0.76929021 0.77744731 0.77369251\n",
      " 0.77783457 0.7832728  0.78430882 0.78327272 0.77692833 0.76929021\n",
      " 0.77744731 0.77369251 0.77783457 0.7832728  0.78430882 0.78327272\n",
      " 0.77692833 0.76929021 0.77744731 0.77369251 0.77783457 0.7832728\n",
      " 0.78430882 0.78327272        nan        nan        nan        nan\n",
      "        nan        nan        nan        nan 0.77692833 0.76929021\n",
      " 0.77744731 0.77369251 0.77783457 0.7832728  0.78430882 0.78327272\n",
      " 0.77692833 0.76929021 0.77744731 0.77369251 0.77783457 0.7832728\n",
      " 0.78430882 0.78327272 0.77692833 0.76929021 0.77744731 0.77369251\n",
      " 0.77783457 0.7832728  0.78430882 0.78327272        nan        nan\n",
      "        nan        nan        nan        nan        nan        nan\n",
      " 0.77692833 0.76929021 0.77744731 0.77369251 0.77783457 0.7832728\n",
      " 0.78430882 0.78327272 0.77692833 0.76929021 0.77744731 0.77369251\n",
      " 0.77783457 0.7832728  0.78430882 0.78327272 0.77692833 0.76929021\n",
      " 0.77744731 0.77369251 0.77783457 0.7832728  0.78430882 0.78327272\n",
      "        nan        nan        nan        nan        nan        nan\n",
      "        nan        nan 0.77692833 0.76929021 0.77744731 0.77369251\n",
      " 0.77783457 0.7832728  0.78430882 0.78327272 0.77692833 0.76929021\n",
      " 0.77744731 0.77369251 0.77783457 0.7832728  0.78430882 0.78327272\n",
      " 0.77692833 0.76929021 0.77744731 0.77369251 0.77783457 0.7832728\n",
      " 0.78430882 0.78327272        nan        nan        nan        nan\n",
      "        nan        nan        nan        nan 0.78184927 0.78625065\n",
      " 0.78638052 0.78728625 0.78845088 0.79220559 0.79362954 0.79544218\n",
      " 0.78184927 0.78625065 0.78638052 0.78728625 0.78845088 0.79220559\n",
      " 0.79362954 0.79544218 0.78184927 0.78625065 0.78638052 0.78728625\n",
      " 0.78845088 0.79220559 0.79362954 0.79544218        nan        nan\n",
      "        nan        nan        nan        nan        nan        nan\n",
      " 0.78184927 0.78625065 0.78638052 0.78728625 0.78845088 0.79220559\n",
      " 0.79362954 0.79544218 0.78184927 0.78625065 0.78638052 0.78728625\n",
      " 0.78845088 0.79220559 0.79362954 0.79544218 0.78184927 0.78625065\n",
      " 0.78638052 0.78728625 0.78845088 0.79220559 0.79362954 0.79544218\n",
      "        nan        nan        nan        nan        nan        nan\n",
      "        nan        nan 0.78184927 0.78625065 0.78638052 0.78728625\n",
      " 0.78845088 0.79220559 0.79362954 0.79544218 0.78184927 0.78625065\n",
      " 0.78638052 0.78728625 0.78845088 0.79220559 0.79362954 0.79544218\n",
      " 0.78184927 0.78625065 0.78638052 0.78728625 0.78845088 0.79220559\n",
      " 0.79362954 0.79544218        nan        nan        nan        nan\n",
      "        nan        nan        nan        nan 0.78184927 0.78625065\n",
      " 0.78638052 0.78728625 0.78845088 0.79220559 0.79362954 0.79544218\n",
      " 0.78184927 0.78625065 0.78638052 0.78728625 0.78845088 0.79220559\n",
      " 0.79362954 0.79544218 0.78184927 0.78625065 0.78638052 0.78728625\n",
      " 0.78845088 0.79220559 0.79362954 0.79544218        nan        nan\n",
      "        nan        nan        nan        nan        nan        nan\n",
      " 0.78715638 0.79026376 0.79621913 0.80113889 0.80359852 0.80683502\n",
      " 0.80800023 0.80812994 0.78715638 0.79026376 0.79621913 0.80113889\n",
      " 0.80359852 0.80683502 0.80800023 0.80812994 0.78715638 0.79026376\n",
      " 0.79621913 0.80113889 0.80359852 0.80683502 0.80800023 0.80812994\n",
      "        nan        nan        nan        nan        nan        nan\n",
      "        nan        nan 0.78715638 0.79039321 0.79634858 0.80126834\n",
      " 0.80372797 0.80696447 0.80800023 0.80800049 0.78715638 0.79039321\n",
      " 0.79634858 0.80126834 0.80372797 0.80696447 0.80800023 0.80800049\n",
      " 0.78715638 0.79039321 0.79634858 0.80126834 0.80372797 0.80696447\n",
      " 0.80800023 0.80800049        nan        nan        nan        nan\n",
      "        nan        nan        nan        nan 0.78715638 0.79039321\n",
      " 0.79634858 0.80126834 0.80372797 0.80696447 0.80800023 0.80800049\n",
      " 0.78715638 0.79039321 0.79634858 0.80126834 0.80372797 0.80696447\n",
      " 0.80800023 0.80800049 0.78715638 0.79039321 0.79634858 0.80126834\n",
      " 0.80372797 0.80696447 0.80800023 0.80800049        nan        nan\n",
      "        nan        nan        nan        nan        nan        nan\n",
      " 0.78715638 0.79013431 0.79596023 0.80087999 0.80359852 0.80683502\n",
      " 0.80748244 0.80774159 0.78715638 0.79013431 0.79596023 0.80087999\n",
      " 0.80359852 0.80683502 0.80748244 0.80774159 0.78715638 0.79013431\n",
      " 0.79596023 0.80087999 0.80359852 0.80683502 0.80748244 0.80774159]\n",
      "  warnings.warn(\n"
     ]
    },
    {
     "name": "stdout",
     "output_type": "stream",
     "text": [
      "Best parameters: {'criterion': 'gini', 'max_depth': 4, 'max_features': 'sqrt', 'min_samples_leaf': 4, 'min_samples_split': 2, 'n_estimators': 9, 'random_state': 10}\n"
     ]
    }
   ],
   "source": [
    "# Parameter grid yang sudah diperbaiki\n",
    "param_grid = {\n",
    "    'n_estimators': np.arange(2, 10),  # Perbaikan typo\n",
    "    'criterion': ['gini', 'entropy'],\n",
    "    'max_depth': np.arange(2, 5),\n",
    "    'min_samples_leaf': np.arange(1, 5),\n",
    "    'min_samples_split': np.arange(1, 5),\n",
    "    'max_features': ['sqrt'],  # Mengganti 'auto' dengan 'sqrt'\n",
    "    'random_state': [10]\n",
    "}\n",
    "\n",
    "# Inisialisasi model\n",
    "rf_model = RandomForestClassifier()\n",
    "\n",
    "# Hyperparameter tuning dengan GridSearchCV\n",
    "rf_hyper_model = GridSearchCV(rf_model, param_grid=param_grid, cv=5, n_jobs=-1, verbose=1)\n",
    "rf_hyper_model.fit(X_train, y_train)\n",
    "\n",
    "# Menampilkan hyperparameter terbaik\n",
    "print(\"Best parameters:\", rf_hyper_model.best_params_)\n"
   ]
  },
  {
   "cell_type": "code",
   "execution_count": 36,
   "id": "2b6819fe-131d-4b57-8ff6-f754ca88654a",
   "metadata": {},
   "outputs": [
    {
     "data": {
      "text/plain": [
       "{'criterion': 'gini',\n",
       " 'max_depth': 4,\n",
       " 'max_features': 'sqrt',\n",
       " 'min_samples_leaf': 4,\n",
       " 'min_samples_split': 2,\n",
       " 'n_estimators': 9,\n",
       " 'random_state': 10}"
      ]
     },
     "execution_count": 36,
     "metadata": {},
     "output_type": "execute_result"
    }
   ],
   "source": [
    " rf_hyper_model.best_params_"
   ]
  },
  {
   "cell_type": "code",
   "execution_count": 37,
   "id": "7550a8c2-b023-49c5-8311-2a698ca72d02",
   "metadata": {},
   "outputs": [
    {
     "data": {
      "text/plain": [
       "0.8183229813664596"
      ]
     },
     "execution_count": 37,
     "metadata": {},
     "output_type": "execute_result"
    }
   ],
   "source": [
    "rf_hyper_model.score(X_test, y_test)"
   ]
  },
  {
   "cell_type": "code",
   "execution_count": 38,
   "id": "254e0e19-aeec-4cc8-88bc-849f0f94b895",
   "metadata": {},
   "outputs": [],
   "source": [
    "# Menyimpan Model yang dibuat\n",
    "\n",
    "import pickle\n",
    "\n",
    "pickle.dump(model, open('stroke2.pkl', 'wb'))"
   ]
  },
  {
   "cell_type": "code",
   "execution_count": null,
   "id": "67cdc386-d4b1-44b3-a5e1-46c5c04d7f34",
   "metadata": {},
   "outputs": [],
   "source": []
  }
 ],
 "metadata": {
  "kernelspec": {
   "display_name": "Python 3 (ipykernel)",
   "language": "python",
   "name": "python3"
  },
  "language_info": {
   "codemirror_mode": {
    "name": "ipython",
    "version": 3
   },
   "file_extension": ".py",
   "mimetype": "text/x-python",
   "name": "python",
   "nbconvert_exporter": "python",
   "pygments_lexer": "ipython3",
   "version": "3.12.7"
  }
 },
 "nbformat": 4,
 "nbformat_minor": 5
}
